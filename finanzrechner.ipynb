{
 "metadata": {
  "language_info": {
   "codemirror_mode": {
    "name": "ipython",
    "version": 3
   },
   "file_extension": ".py",
   "mimetype": "text/x-python",
   "name": "python",
   "nbconvert_exporter": "python",
   "pygments_lexer": "ipython3",
   "version": "3.8.5-final"
  },
  "orig_nbformat": 2,
  "kernelspec": {
   "name": "python3",
   "display_name": "Python 3",
   "language": "python"
  }
 },
 "nbformat": 4,
 "nbformat_minor": 2,
 "cells": [
  {
   "cell_type": "code",
   "execution_count": 3,
   "metadata": {},
   "outputs": [
    {
     "output_type": "stream",
     "name": "stdout",
     "text": [
      "Windgeschwindigkeiten 50m über Boden in m/s:\n"
     ]
    },
    {
     "output_type": "execute_result",
     "data": {
      "text/plain": [
       "                       Herzberg    Sulzbann    Strichen   Chornberg\n",
       "DateTime                                                           \n",
       "2007-01-01 00:00:00   12.417548   10.628394    9.901205    9.069599\n",
       "2007-01-01 01:00:00   10.217509    9.205234    8.083005    8.415641\n",
       "2007-01-01 02:00:00    7.586996    6.324036    4.342135    6.067798\n",
       "2007-01-01 03:00:00    8.881812    8.822738    6.922568    6.807932\n",
       "2007-01-01 04:00:00    8.925463    6.842247    5.347557    6.650112\n",
       "...                         ...         ...         ...         ...\n",
       "2009-12-31 19:00:00    8.867898    8.838482    6.256954    7.372755\n",
       "2009-12-31 20:00:00    8.269855    7.733416    5.888010    7.258707\n",
       "2009-12-31 21:00:00    8.216048    6.222354    5.286286    6.994446\n",
       "2009-12-31 22:00:00    6.084167    6.095007    4.325935    5.058581\n",
       "2009-12-31 23:00:00 -999.000000 -999.000000 -999.000000 -999.000000\n",
       "\n",
       "[26304 rows x 4 columns]"
      ],
      "text/html": "<div>\n<style scoped>\n    .dataframe tbody tr th:only-of-type {\n        vertical-align: middle;\n    }\n\n    .dataframe tbody tr th {\n        vertical-align: top;\n    }\n\n    .dataframe thead th {\n        text-align: right;\n    }\n</style>\n<table border=\"1\" class=\"dataframe\">\n  <thead>\n    <tr style=\"text-align: right;\">\n      <th></th>\n      <th>Herzberg</th>\n      <th>Sulzbann</th>\n      <th>Strichen</th>\n      <th>Chornberg</th>\n    </tr>\n    <tr>\n      <th>DateTime</th>\n      <th></th>\n      <th></th>\n      <th></th>\n      <th></th>\n    </tr>\n  </thead>\n  <tbody>\n    <tr>\n      <th>2007-01-01 00:00:00</th>\n      <td>12.417548</td>\n      <td>10.628394</td>\n      <td>9.901205</td>\n      <td>9.069599</td>\n    </tr>\n    <tr>\n      <th>2007-01-01 01:00:00</th>\n      <td>10.217509</td>\n      <td>9.205234</td>\n      <td>8.083005</td>\n      <td>8.415641</td>\n    </tr>\n    <tr>\n      <th>2007-01-01 02:00:00</th>\n      <td>7.586996</td>\n      <td>6.324036</td>\n      <td>4.342135</td>\n      <td>6.067798</td>\n    </tr>\n    <tr>\n      <th>2007-01-01 03:00:00</th>\n      <td>8.881812</td>\n      <td>8.822738</td>\n      <td>6.922568</td>\n      <td>6.807932</td>\n    </tr>\n    <tr>\n      <th>2007-01-01 04:00:00</th>\n      <td>8.925463</td>\n      <td>6.842247</td>\n      <td>5.347557</td>\n      <td>6.650112</td>\n    </tr>\n    <tr>\n      <th>...</th>\n      <td>...</td>\n      <td>...</td>\n      <td>...</td>\n      <td>...</td>\n    </tr>\n    <tr>\n      <th>2009-12-31 19:00:00</th>\n      <td>8.867898</td>\n      <td>8.838482</td>\n      <td>6.256954</td>\n      <td>7.372755</td>\n    </tr>\n    <tr>\n      <th>2009-12-31 20:00:00</th>\n      <td>8.269855</td>\n      <td>7.733416</td>\n      <td>5.888010</td>\n      <td>7.258707</td>\n    </tr>\n    <tr>\n      <th>2009-12-31 21:00:00</th>\n      <td>8.216048</td>\n      <td>6.222354</td>\n      <td>5.286286</td>\n      <td>6.994446</td>\n    </tr>\n    <tr>\n      <th>2009-12-31 22:00:00</th>\n      <td>6.084167</td>\n      <td>6.095007</td>\n      <td>4.325935</td>\n      <td>5.058581</td>\n    </tr>\n    <tr>\n      <th>2009-12-31 23:00:00</th>\n      <td>-999.000000</td>\n      <td>-999.000000</td>\n      <td>-999.000000</td>\n      <td>-999.000000</td>\n    </tr>\n  </tbody>\n</table>\n<p>26304 rows × 4 columns</p>\n</div>"
     },
     "metadata": {},
     "execution_count": 3
    }
   ],
   "source": [
    "import pandas\n",
    "\n",
    "# fetches data file from my github\n",
    "data = pandas.read_pickle(\"https://github.com/huegi/RES-2020-Finanzen/blob/main/data/winddaten.pkl?raw=true\")\n",
    "\n",
    "print(\"Windgeschwindigkeiten 50m über Boden in m/s:\")\n",
    "data"
   ]
  }
 ]
}