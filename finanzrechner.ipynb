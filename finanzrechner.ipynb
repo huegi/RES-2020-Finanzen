{
 "metadata": {
  "language_info": {
   "codemirror_mode": {
    "name": "ipython",
    "version": 3
   },
   "file_extension": ".py",
   "mimetype": "text/x-python",
   "name": "python",
   "nbconvert_exporter": "python",
   "pygments_lexer": "ipython3",
   "version": "3.8.5-final"
  },
  "orig_nbformat": 2,
  "kernelspec": {
   "name": "python3",
   "display_name": "Python 3",
   "language": "python"
  }
 },
 "nbformat": 4,
 "nbformat_minor": 2,
 "cells": [
  {
   "cell_type": "code",
   "execution_count": 11,
   "metadata": {},
   "outputs": [
    {
     "output_type": "execute_result",
     "data": {
      "text/plain": [
       "           Herzberg      Sulzbann      Strichen     Chornberg\n",
       "count  26304.000000  26304.000000  26304.000000  26304.000000\n",
       "mean       0.140292     -0.663210     -1.606515     -1.258627\n",
       "std       80.915266     80.831846     80.737501     80.768848\n",
       "min     -999.000000   -999.000000   -999.000000   -999.000000\n",
       "25%        4.035856      3.316020      2.714655      2.974762\n",
       "50%        6.095189      5.128626      4.290511      4.637150\n",
       "75%        8.896851      7.737263      6.451325      6.952213\n",
       "max       30.738906     29.718396     25.829939     26.210475"
      ],
      "text/html": "<div>\n<style scoped>\n    .dataframe tbody tr th:only-of-type {\n        vertical-align: middle;\n    }\n\n    .dataframe tbody tr th {\n        vertical-align: top;\n    }\n\n    .dataframe thead th {\n        text-align: right;\n    }\n</style>\n<table border=\"1\" class=\"dataframe\">\n  <thead>\n    <tr style=\"text-align: right;\">\n      <th></th>\n      <th>Herzberg</th>\n      <th>Sulzbann</th>\n      <th>Strichen</th>\n      <th>Chornberg</th>\n    </tr>\n  </thead>\n  <tbody>\n    <tr>\n      <th>count</th>\n      <td>26304.000000</td>\n      <td>26304.000000</td>\n      <td>26304.000000</td>\n      <td>26304.000000</td>\n    </tr>\n    <tr>\n      <th>mean</th>\n      <td>0.140292</td>\n      <td>-0.663210</td>\n      <td>-1.606515</td>\n      <td>-1.258627</td>\n    </tr>\n    <tr>\n      <th>std</th>\n      <td>80.915266</td>\n      <td>80.831846</td>\n      <td>80.737501</td>\n      <td>80.768848</td>\n    </tr>\n    <tr>\n      <th>min</th>\n      <td>-999.000000</td>\n      <td>-999.000000</td>\n      <td>-999.000000</td>\n      <td>-999.000000</td>\n    </tr>\n    <tr>\n      <th>25%</th>\n      <td>4.035856</td>\n      <td>3.316020</td>\n      <td>2.714655</td>\n      <td>2.974762</td>\n    </tr>\n    <tr>\n      <th>50%</th>\n      <td>6.095189</td>\n      <td>5.128626</td>\n      <td>4.290511</td>\n      <td>4.637150</td>\n    </tr>\n    <tr>\n      <th>75%</th>\n      <td>8.896851</td>\n      <td>7.737263</td>\n      <td>6.451325</td>\n      <td>6.952213</td>\n    </tr>\n    <tr>\n      <th>max</th>\n      <td>30.738906</td>\n      <td>29.718396</td>\n      <td>25.829939</td>\n      <td>26.210475</td>\n    </tr>\n  </tbody>\n</table>\n</div>"
     },
     "metadata": {},
     "execution_count": 11
    }
   ],
   "source": [
    "import pandas\n",
    "\n",
    "# importiert Datensatz mit Windgeschwindigkeiten 50m über Boden in m/s:\n",
    "url = \"https://raw.githubusercontent.com/huegi/RES-2020-Finanzen/main/data/winddaten.csv\"\n",
    "data = pandas.read_csv(url, index_col=\"DateTime\")\n",
    "\n",
    "data.describe()"
   ]
  }
 ]
}